{
 "cells": [
  {
   "cell_type": "markdown",
   "id": "e0f3d3c8",
   "metadata": {},
   "source": [
    "# Faraday Rotation & Dispersion Analysis\n",
    "\n",
    "Use this template as a starting point to carry out analysis tasks.  For reference, here are links to recommended Python resources: the [Whirlwind Tour of Python](https://jakevdp.github.io/WhirlwindTourOfPython/) and the [Python Data Science Handbook](https://jakevdp.github.io/PythonDataScienceHandbook/) both by Jake VanderPlas.\n",
    "## Standard Packages\n",
    "\n",
    "This is a good idea at the beginning of your notebook to include the packages that you will need.  We will use those shown below here.  A brief description:\n",
    "* `numpy` is the foundational package for Python numerical work. It extends and speeds up array operations beyond standard Python, and it includes almost all math functions that you would need for example `sqrt()` (square root) or `cos()` (cosine).  These would be written in code as `np.sqrt()` or `np.cos()`.\n",
    "* `scipy` is a huge collection of scientific data analysis functions, routines, physicical constants, etc.  This is the second most used package for scientific work. Here we will use the physical constants library, `scipy.constants`.  Documentation is at [SciPy.org](https://docs.scipy.org/doc/scipy/reference/) with the constants subpackage at https://docs.scipy.org/doc/scipy/reference/constants.html.\n",
    "* `uncertainties` is a very useful small package that simplifies uncertainty propagation and printing out of quantities with uncertainty. Documentation is at https://pythonhosted.org/uncertainties/\n",
    "* `matplotlib` is *the* standard plotting package for scientific Python.  We will use a subset called `pyplot` which is modeled after the plotting functions used in MATLAB. The last line below, `%matplotlib inline`, simply forces the plots to appear within the notebook.\n",
    "* `pandas` is a large data science package.  It's main feature is a set of methods to create and manipulate a \"DataFrame,\" which is an enlargement of the idea of an array.  I plays well with NumPy and other packages.  We will use it mainly as a way to read files into data sets in an easy way.\n",
    "* [LMFit](https://lmfit.github.io/lmfit-py/) is excellent for carrying out line and curve fits with many useful features."
   ]
  },
  {
   "cell_type": "code",
   "execution_count": null,
   "id": "ac078eff",
   "metadata": {},
   "outputs": [],
   "source": [
    "# Run this cell with Shift-Enter, and wait until the \n",
    "# asterisk changes to a number, i.e., [*] becomes [1]\n",
    "import numpy as np\n",
    "import scipy.constants as const\n",
    "import uncertainties as unc\n",
    "import matplotlib.pyplot as plt\n",
    "import matplotlib as mpl\n",
    "import pandas as pd\n",
    "%matplotlib inline"
   ]
  },
  {
   "cell_type": "markdown",
   "id": "52f8b613",
   "metadata": {},
   "source": [
    "## Part 1. Faraday Rotation Analysis\n",
    "\n",
    "The steps for this part are\n",
    "1. Read in a copy of the extinction-angle versus coil-current measurement data tables. \n",
    "2. Convert the extinction angles measured in degrees+arc-minutes to radians.  Include another column in the original data table.\n",
    "3. Plot the measured extinction angle $\\phi$ versus measured solenoid current $I$. Fit the data to a line to obtain the slopes for both the green and the blue light.\n",
    "4. Calculate the magnetic field for an “ideal” solenoid using the known turns and length of the actual solenoid. Compare your value to the one listed in Fig. 5 of the instructions.\n",
    "5. Calculate the Verdet constants from this ideal value and the slopes found above.\n",
    "6. Calculate the Verdet constants from the directly measured field along solenoid, as given in the instructions.\n",
    "\n",
    "Note: A Pandas DataFrame will automatically display as a formatted table.  Use the functions in Pandas to build and manipulate such a DataFrame. An example is shown below."
   ]
  },
  {
   "cell_type": "code",
   "execution_count": null,
   "id": "04f17b03",
   "metadata": {},
   "outputs": [],
   "source": [
    "# Read the Faraday rotation data file into a Pandas Dataframe.\n",
    "# File is assumed to be an Excel spreadsheet (other options are CSV). \n",
    "# The Excel file may have multiple sheets, and you can read the one you want with the variable sheet_name.\n",
    "\n",
    "# Here is an example\n",
    "green_rot_data = pd.read_excel('Faraday_rotation_data.xlsx',sheet_name='Green filter')\n",
    "\n",
    "# See what it looks like\n",
    "green_rot_data"
   ]
  },
  {
   "cell_type": "code",
   "execution_count": null,
   "id": "0c98f58c",
   "metadata": {},
   "outputs": [],
   "source": [
    "# Repeat for the blue-filter data\n"
   ]
  },
  {
   "cell_type": "markdown",
   "id": "adddd535",
   "metadata": {},
   "source": [
    "### Convert the raw angle measurements to radians\n",
    "\n",
    "You can build a new array with a direct calculation on the Series arrays in the data table, or make some helper functions.\n",
    "\n",
    "Remember: minutes and seconds of arc work just like minutes and seconds of time: There are 60 arc-minutes in one degree, and 60 arc-seconds in one arc-minute."
   ]
  },
  {
   "cell_type": "code",
   "execution_count": null,
   "id": "02c5d07f",
   "metadata": {},
   "outputs": [],
   "source": [
    "# You may complete the function, and use it, or code directly\n",
    "\n",
    "def degMinSec2rad(deg, min=0.0, sec=0.0, output='radians'):\n",
    "    '''\n",
    "    Converts degrees, minutes, seconds into radians\n",
    "    or optionally decimal degrees\n",
    "    '''\n",
    "    # You code here to obtain the result\n",
    "    \n",
    "    return result\n",
    "\n",
    "# Test of the function with arguments 10 deg, 30', 0'' and 5 deg, 60', 3600''\n",
    "\n",
    "print(degMinSec2rad(10.0, 30.0, output='degrees'))\n",
    "print(degMinSec2rad(5.0, 60.0, 3600.0)) # will output in radians by default\n",
    "      "
   ]
  },
  {
   "cell_type": "markdown",
   "id": "410f4fcc",
   "metadata": {},
   "source": [
    "Add columns to the Dataframes with converted values."
   ]
  },
  {
   "cell_type": "code",
   "execution_count": null,
   "id": "35d912a0",
   "metadata": {},
   "outputs": [],
   "source": [
    "# Here is an example, using the function above\n",
    "# Notice how assigning another variable to the DataFrame does not create a new DataFrame.\n",
    "# Instead, both \"my_df\" and \"green_rot_data\" both refer to the same data structure whose contents\n",
    "# can change.  This is an example of a Python \"mutable\" data type.\n",
    "\n",
    "my_df = green_rot_data\n",
    "\n",
    "my_df['phi (decimal deg)'] = degMinSec2rad(my_df['phi (deg)'], my_df['phi (min)'], output='degrees')\n",
    "my_df['phi (rad)'] = degMinSec2rad(my_df['phi (deg)'], my_df['phi (min)'])\n",
    "\n",
    "green_rot_data"
   ]
  },
  {
   "cell_type": "code",
   "execution_count": null,
   "id": "40742553",
   "metadata": {},
   "outputs": [],
   "source": [
    "# Calculate and add a column to the blue-filter dataframe\n"
   ]
  },
  {
   "cell_type": "code",
   "execution_count": null,
   "id": "4adf67e7",
   "metadata": {},
   "outputs": [],
   "source": [
    "# Useful plot default\n",
    "mpl.rcParams['figure.figsize'] = 8.0,6.0  # Roughly 12 cm wde by 8 cm high\n",
    "mpl.rcParams['font.size'] = 14.0 # Use 14 point font"
   ]
  },
  {
   "cell_type": "code",
   "execution_count": null,
   "id": "476df0c5",
   "metadata": {},
   "outputs": [],
   "source": [
    "# See the examples for how to make a plot\n",
    "\n"
   ]
  },
  {
   "cell_type": "markdown",
   "id": "13988edf",
   "metadata": {},
   "source": [
    "Now fit lines to the data using LMFit."
   ]
  },
  {
   "cell_type": "code",
   "execution_count": null,
   "id": "fd4ad246",
   "metadata": {},
   "outputs": [],
   "source": [
    "# Set  up the Model\n",
    "\n",
    "# Import the Linear model.\n",
    "# You only do this once in a notebook\n",
    "from lmfit.models import LinearModel\n",
    "\n",
    "# create an instance of the model\n",
    "# You only need to do this once\n",
    "line = LinearModel()"
   ]
  },
  {
   "cell_type": "code",
   "execution_count": null,
   "id": "055c8779",
   "metadata": {},
   "outputs": [],
   "source": [
    "# Green first\n",
    "# Here is an example\n",
    "#\n",
    "# Get starting parameters\n",
    "\n",
    "my_df = green_rot_data\n",
    "params = line.guess(my_df['phi (rad)'], x=my_df['I (A)'])\n",
    "\n",
    "# Feed these into the fitter and run it.\n",
    "green_fit = line.fit(my_df['phi (rad)'], params, x=my_df['I (A)'])\n",
    "\n",
    "# Print the results\n",
    "green_fit"
   ]
  },
  {
   "cell_type": "code",
   "execution_count": null,
   "id": "ef379084",
   "metadata": {},
   "outputs": [],
   "source": [
    "# extract the slope for the fit.  If you use Uncertainties, you can propagate the uncertainty at the same time.\n",
    "# Here is an example\n",
    "\n",
    "green_slope = unc.ufloat(green_fit.params['slope'].value, green_fit.params['slope'].stderr)\n",
    "print('Slope of phi/I for green filter = {:.2uP} rad/A'.format(green_slope))"
   ]
  },
  {
   "cell_type": "markdown",
   "id": "c58c254b",
   "metadata": {},
   "source": [
    "Repeat for the blue filter measurements.  You **do not** need to re-import the model!"
   ]
  },
  {
   "cell_type": "code",
   "execution_count": null,
   "id": "f50ace73",
   "metadata": {},
   "outputs": [],
   "source": [
    "# Blue second\n",
    "#\n",
    "# Get starting parameters\n",
    "\n",
    "\n",
    "# Feed these into the fitter and run it.\n",
    "\n",
    "# Print the results\n"
   ]
  },
  {
   "cell_type": "code",
   "execution_count": null,
   "id": "13e1efce",
   "metadata": {},
   "outputs": [],
   "source": [
    "# Extract the slope for the blue-filter data\n"
   ]
  },
  {
   "cell_type": "markdown",
   "id": "3def4839",
   "metadata": {},
   "source": [
    "### Plot with the fit lines\n",
    "\n",
    "Use the `eval()` method in LMFit to create fit lines.  Then add these to the plot made earlier.  If you have a model result named `line_fit` based on data sets `x_values` and `y_values` you can use `eval()` to make a fit line or curve as follows:\n",
    "\n",
    "    plt.plot(x_values,y_values,'o', label=\"data\")  # the data points\n",
    "    plt.plot(x_values,line_fit.eval(line_fit.params, x=x_values),'-', label=\"fit\") # the fit line"
   ]
  },
  {
   "cell_type": "code",
   "execution_count": null,
   "id": "07931443",
   "metadata": {},
   "outputs": [],
   "source": [
    "# Remake the plot above but include the fit lines\n",
    "\n"
   ]
  },
  {
   "cell_type": "markdown",
   "id": "bc3e1008",
   "metadata": {},
   "source": [
    "### Calculate the B field and Verdet constants\n",
    "\n",
    "There are two parts:\n",
    "1. Calculate the field from the forula for an ideal (infinite) solenoid, from $B=\\mu_0ni$ were $n =N/L$, the number of turns/length and $i$ is the current.  Then use the result to get the Verdet constants\n",
    "2. Use the empirical measurement for the real solenoid, and repeat the calculation.  \n",
    "\n",
    "The Verdet constant $V$ comes from $\\phi = VBL$ (assuming $B$ is constant) or $\\phi = V\\int B(l)\\,dl$ for a variable $B$. \n",
    "\n",
    "Recommended: Use the SciPy constants library for physical constants.\n",
    "\n",
    "#### Fields"
   ]
  },
  {
   "cell_type": "code",
   "execution_count": null,
   "id": "69b94de8",
   "metadata": {},
   "outputs": [],
   "source": [
    "# Define the constants for the solenoid coil\n",
    "\n",
    "# Fill in the values \n",
    "L = # Length of solenoid, in meters\n",
    "N = # Total turns of wire in solenoid\n",
    "i = # Assumed current in amps\n",
    "\n",
    "# Calculate the B field\n",
    "\n",
    "# Print it, and check against the instructions\n"
   ]
  },
  {
   "cell_type": "markdown",
   "id": "df11f518",
   "metadata": {},
   "source": [
    "#### Verdet constants\n"
   ]
  },
  {
   "cell_type": "code",
   "execution_count": null,
   "id": "3581a5db",
   "metadata": {},
   "outputs": [],
   "source": [
    "BL_empirical = 8.887e-3 # T-m/A\n",
    "\n",
    "# Calculate and print the Verdet constants for both colors and both versions of the B field\n"
   ]
  },
  {
   "cell_type": "markdown",
   "id": "494e5ac8",
   "metadata": {},
   "source": [
    "## Part 2. Dispersion analysis\n",
    "\n",
    "Some aspects are the same as above:\n",
    "1. Convert the viewing telescope angles measured in degrees+arc-minutes to deviation angles in radians.  Include another column in the original data table.\n",
    "2. Convert the deviation angles in radians plus the prism geometry to indices of refraction for the cinnamic acid, $n(\\lambda)$.  Include another column in the original data table.\n",
    "3. Make two plots: (1)  $n(\\lambda)$ versus $\\lambda$ and (2) $n(\\lambda)$ versus $1/\\lambda^2$.\n",
    "\n",
    "Check to see if the plots follow expectations, and then \n",
    "1. Fit $n(\\lambda)$ versus $1/\\lambda^2$ with a line to obtain the slope and the intercept.\n",
    "2. Use the fit parameters to calculate $\\lambda\\frac{dn}{d\\lambda}$ at the green and blue wavelengths.\n",
    "3. Optional: (not hard with LMFit) Fit to the other form (that includes $1/\\lambda^4$) to obtain the coefficients in equation (11), along with calculation of $\\lambda\\frac{dn}{d\\lambda}$ from them.  Also estimate the resonance wavelength that dominates the dispersion.\n"
   ]
  },
  {
   "cell_type": "code",
   "execution_count": null,
   "id": "83bcec30",
   "metadata": {},
   "outputs": [],
   "source": [
    "# Read in the data, like above.\n",
    "# File is assumed to be an Excel spreadsheet (other options are CSV)\n",
    "\n",
    "# See what it looks like\n"
   ]
  },
  {
   "cell_type": "markdown",
   "id": "16854a61",
   "metadata": {},
   "source": [
    "Convert your measurements to the deviation angle $\\delta$.  Note, your values may need to be subtracted from 360 degrees or $2\\pi$ radians to be correct.  Think carefully about the relationship between the deviation angle and the measured angle of the viwing telescope."
   ]
  },
  {
   "cell_type": "code",
   "execution_count": null,
   "id": "340c7bb4",
   "metadata": {},
   "outputs": [],
   "source": [
    "# Convert to deviation angle and add a column to the DataFrame.  You should be able to reuse the code you created above.\n",
    "\n",
    "\n"
   ]
  },
  {
   "cell_type": "markdown",
   "id": "05bd9087",
   "metadata": {},
   "source": [
    "### Calculate the refractive index\n",
    "\n",
    "From Hecht. 5th edition, Eq. (5.54) on page 192:\n",
    "\n",
    "$$n = \\frac{\\sin[(\\delta_m+\\alpha)/2]}{\\sin\\alpha/2}$$\n",
    "\n",
    "where $\\alpha$ is the apex angle of the prism and $\\delta_m$ is the minimum deviation angle.  For $\\alpha = 60^\\circ = \\pi/3$ radians, this simplifies to \n",
    "\n",
    "$$n = 2\\sin[(\\delta_m+\\pi/3)/2]$$."
   ]
  },
  {
   "cell_type": "code",
   "execution_count": null,
   "id": "dfd62b4a",
   "metadata": {},
   "outputs": [],
   "source": [
    "# Make a function for the above formula\n",
    "\n",
    "def find_n(delta):\n",
    "    '''\n",
    "    Calculates refractive index in minimum deviation condition for\n",
    "    an equilateral triangular dispersing prism.\n",
    "    '''\n",
    "    # You code the calculation here\n",
    "    \n",
    "    return result"
   ]
  },
  {
   "cell_type": "code",
   "execution_count": null,
   "id": "dcb20d0e",
   "metadata": {},
   "outputs": [],
   "source": [
    "# Add a column to the table \n",
    "\n"
   ]
  },
  {
   "cell_type": "markdown",
   "id": "94f91c40",
   "metadata": {},
   "source": [
    "### Make some plots\n",
    "\n",
    "Make two plots: (1)  $n(\\lambda)$ versus $\\lambda$ and (2) $n(\\lambda)$ versus $1/\\lambda^2$."
   ]
  },
  {
   "cell_type": "code",
   "execution_count": null,
   "id": "df14e246",
   "metadata": {},
   "outputs": [],
   "source": [
    "# Plot 1: Refractive index vs wavelength\n"
   ]
  },
  {
   "cell_type": "code",
   "execution_count": null,
   "id": "3f8a2482",
   "metadata": {},
   "outputs": [],
   "source": [
    "# Plot 2: Refractive index vs 1/wavelength^2\n",
    "\n"
   ]
  },
  {
   "cell_type": "markdown",
   "id": "36a6ecf4",
   "metadata": {},
   "source": [
    "### Fit the dispersion data\n",
    "\n",
    "Fit to a line to get the slope and intercept, and optionally fit to a quadratic to get a better value for the local slope.\n",
    "\n",
    "Be careful with units!!  The wavelengths in the instructions are in nanometers.\n",
    "\n",
    "You can use the values of $1/\\lambda^2$ as the \"x\" values in the line fit."
   ]
  },
  {
   "cell_type": "code",
   "execution_count": null,
   "id": "4ddfa657",
   "metadata": {},
   "outputs": [],
   "source": [
    "# Line fit.  Use the model already in place\n",
    "\n"
   ]
  },
  {
   "cell_type": "code",
   "execution_count": null,
   "id": "ad4ad9bd",
   "metadata": {},
   "outputs": [],
   "source": [
    "# Save the slope and its uncertainty\n"
   ]
  },
  {
   "cell_type": "markdown",
   "id": "ab677c32",
   "metadata": {},
   "source": [
    "#### Optional: fit to a quadratic.\n",
    "\n",
    "If $x=1/\\lambda^2$ then $x^2=1/\\lambda^4$.  There is a `QuadraticModel` in LMFit that can be used in exacty the same manner as the `LinearModel`.  You just need to import it."
   ]
  },
  {
   "cell_type": "code",
   "execution_count": null,
   "id": "fa68b3e4",
   "metadata": {},
   "outputs": [],
   "source": [
    "# Quadratic fit. Need to import a new model\n",
    "\n",
    "# create an instance of the model\n",
    "# You only need to do this once\n",
    "\n",
    "# use the guess() method to obtain starting parameters\n",
    "\n",
    "# Feed these into the fitter and run it.\n",
    "\n",
    "# Print the results\n"
   ]
  },
  {
   "cell_type": "code",
   "execution_count": null,
   "id": "185ddae5",
   "metadata": {},
   "outputs": [],
   "source": [
    "# Save the linear (b) and quadratic (a) coefficients and their uncertainty.\n"
   ]
  },
  {
   "cell_type": "code",
   "execution_count": null,
   "id": "ad74378d",
   "metadata": {},
   "outputs": [],
   "source": [
    "# Use the eval() method for each fit result to create a fit curve (or line) and plot these ovver the data set.\n",
    "\n"
   ]
  },
  {
   "cell_type": "markdown",
   "id": "79781db0",
   "metadata": {},
   "source": [
    "### Use the fit parameters\n",
    "\n",
    "The fit parameters allow a calculation of $\\lambda\\frac{dn}{d\\lambda}$.  For the line fit, the function is\n",
    "$$ n = c+\\frac{b}{\\lambda^2} $$ \n",
    "from which we get\n",
    "$$\\left(\\lambda\\frac{dn}{d\\lambda}\\right)_\\text{lin} = -2\\frac{b}{\\lambda^2}$$\n",
    "\n",
    "With the optional quadratic form\n",
    "$$ n = c+\\frac{b}{\\lambda^2}+\\frac{a}{\\lambda^4} $$\n",
    "we obtain \n",
    "$$\\left(\\lambda\\frac{dn}{d\\lambda}\\right)_\\text{quad} = -2\\frac{b}{\\lambda^2} - 4\\frac{a}{\\lambda^4}$$\n",
    "\n",
    "One can write a function to calculate these quantities from the fit results.\n"
   ]
  },
  {
   "cell_type": "code",
   "execution_count": null,
   "id": "f2ddb742",
   "metadata": {},
   "outputs": [],
   "source": [
    "# Create a function to calculate lambda*dn/d(lambda).  \n",
    "# Note \"lambda\" is a reserved word in Python.  You cannot use it as a variable name!\n",
    "\n"
   ]
  },
  {
   "cell_type": "markdown",
   "id": "4caa8f66",
   "metadata": {},
   "source": [
    "Obtain the wavelengths for the green and blue lines of the lamp, and use them to calculate $\\lambda(dn/d\\lambda)$ for each value of $\\lambda$."
   ]
  },
  {
   "cell_type": "code",
   "execution_count": null,
   "id": "65811524",
   "metadata": {},
   "outputs": [],
   "source": [
    "# Wavelengths for green Hg and blue Cd lines\n",
    "\n",
    "wavelen_green =  # meters\n",
    "wavelen_blue = # meters\n",
    "\n",
    "# Calculate\n",
    "\n",
    "# Print the results.  If you don't get something close to -0.1xx, you have made a mistake.\n"
   ]
  },
  {
   "cell_type": "markdown",
   "id": "a5cfa5af",
   "metadata": {},
   "source": [
    "### Optional: Estimate the resonance wavelength\n",
    "\n",
    "The theory of dispersion derives from the optical resonances in the material.  Many transparent materials have a resonance in the ultraviolet.  Ignoring the absorptive part of the resonance, and assuming only one resonance affects the dispersion, the dielectric constant $K$, which is the square of the index of refraction $n$ has (approximately) the following form:\n",
    "$$ K = n^2 \\approx 1+ \\frac{A}{\\nu_0^2 - \\nu^2} $$\n",
    "where $A$ is a constant depending on the material.  We can locate the resonance frequency $\\nu_0$ or equivalently, the resonance wavelength $\\lambda_0$ by rewriting the above equation as\n",
    "$$\\frac{1}{n^2-1} = \\frac{C}{\\lambda^2} - \\frac{C}{\\lambda_0^2}$$ \n",
    "where $C = -c^2/A$ is a different constant with $c$ being the speed of light.\n",
    "\n",
    "By plotting $1/(n^2-1)$ versus $1/\\lambda^2$ we should get a line whose slope is $C$ and intercept is close to $C/\\lambda_0^2$. Try this and see if you get a plausible result. \n"
   ]
  },
  {
   "cell_type": "code",
   "execution_count": null,
   "id": "19856739",
   "metadata": {},
   "outputs": [],
   "source": [
    "# Create new y-values using the refractive index\n",
    "\n",
    "# Line fit.  Use the model already in place\n",
    "\n",
    "# Guess the starting parameters\n",
    "\n",
    "# Feed these into the fitter and run it.\n",
    "\n",
    "# Print the results\n"
   ]
  },
  {
   "cell_type": "code",
   "execution_count": null,
   "id": "666d6cf6",
   "metadata": {
    "scrolled": false
   },
   "outputs": [],
   "source": [
    "# Plot the modified data and the fit.\n"
   ]
  },
  {
   "cell_type": "markdown",
   "id": "9532cb08",
   "metadata": {},
   "source": [
    "Calculate $\\lambda_0$.  This should be equal to $\\sqrt{\\text{-slope/intercept}}$"
   ]
  },
  {
   "cell_type": "code",
   "execution_count": null,
   "id": "e74d118a",
   "metadata": {},
   "outputs": [],
   "source": [
    "# Obtain the slope and intercept from the fit line.\n",
    "\n",
    "# Calculate and print the estimated resonance wavelength.\n"
   ]
  },
  {
   "cell_type": "markdown",
   "id": "15054cac",
   "metadata": {},
   "source": [
    "The estimated wavelength should be well into the ultraviolet.  A quick search on the internet for \"absorption spectra cinnamic acid\" shows data with absorptions in the 270 and 190 nm range.  "
   ]
  },
  {
   "cell_type": "markdown",
   "id": "a1d8d0ea",
   "metadata": {},
   "source": [
    "## Part 3. Combine the Dispersion and Faraday rotation results\n",
    "\n",
    "1. Calculate the ratio of the Verdet constants $V$ to $\\lambda\\frac{dn}{d\\lambda}$ for the green and blue to see how well they agree (they should be the same, according to the theory provided).\n",
    "2. Calculate the magneto-optical constants $\\gamma$ for each color, and discuss, according to the questions raised in the instructions.\n"
   ]
  },
  {
   "cell_type": "markdown",
   "id": "6acde8c9",
   "metadata": {},
   "source": [
    "Obtain the physical constants used in the simple simple model, and calculate $q_e/(2m_ec)$:"
   ]
  },
  {
   "cell_type": "code",
   "execution_count": null,
   "id": "4c096844",
   "metadata": {},
   "outputs": [],
   "source": [
    "# Obtain the physical constants  from SciPy Constants library.\n",
    "\n",
    "# Calculate q_e/(2*m_e*c)\n",
    "\n",
    "# Print it and compare tto the value in the instructions"
   ]
  },
  {
   "cell_type": "markdown",
   "id": "87ca3260",
   "metadata": {},
   "source": [
    "Calculate the ratios and magneto-optical constants $\\gamma$."
   ]
  },
  {
   "cell_type": "code",
   "execution_count": null,
   "id": "9ee58399",
   "metadata": {},
   "outputs": [],
   "source": [
    "# Calculate Ratios\n",
    "\n",
    "\n",
    "# Print them and calculate the gammas\n",
    "\n"
   ]
  },
  {
   "cell_type": "code",
   "execution_count": null,
   "id": "38f9b4a8",
   "metadata": {},
   "outputs": [],
   "source": []
  }
 ],
 "metadata": {
  "kernelspec": {
   "display_name": "Python 3 (ipykernel)",
   "language": "python",
   "name": "python3"
  },
  "language_info": {
   "codemirror_mode": {
    "name": "ipython",
    "version": 3
   },
   "file_extension": ".py",
   "mimetype": "text/x-python",
   "name": "python",
   "nbconvert_exporter": "python",
   "pygments_lexer": "ipython3",
   "version": "3.9.13"
  }
 },
 "nbformat": 4,
 "nbformat_minor": 5
}
